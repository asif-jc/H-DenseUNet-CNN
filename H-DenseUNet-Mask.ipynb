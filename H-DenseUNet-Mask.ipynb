{
 "cells": [
  {
   "cell_type": "code",
   "execution_count": 5,
   "metadata": {},
   "outputs": [],
   "source": [
    "#Libraries\n",
    "import os\n",
    "os.environ['PROTOCOL_BUFFERS_PYTHON_IMPLEMENTATION'] = 'python'\n",
    "import numpy as np\n",
    "import os\n",
    "import cv2\n",
    "import time\n",
    "from random import randint\n",
    "import SimpleITK as sitk\n",
    "\n",
    "#CNN Libraries\n",
    "from keras.models import Model\n",
    "from keras.layers import Input, Conv2D, MaxPooling2D, UpSampling2D, Concatenate, BatchNormalization, Activation, Conv2DTranspose, concatenate\n",
    "from keras.layers.core import Dropout\n",
    "import tensorflow as tf\n",
    "# from tensorflow.keras.models import Model\n",
    "\n",
    "#Visualisation Libraries\n",
    "import plotly.graph_objects as go\n",
    "import pydicom\n",
    "import matplotlib.pyplot as plt\n",
    "\n",
    "# Mask Creation Libraries\n",
    "import trimesh\n",
    "# import pyvista as pv\n",
    "from PIL import Image\n",
    "# from stl import mesh\n",
    "from skimage import measure\n",
    "from skimage.transform import resize\n",
    "\n",
    "# Viewer\n",
    "from scipy import ndimage as ndi\n",
    "from skimage import (exposure, feature, filters, io, measure,\n",
    "                      morphology, restoration, segmentation, transform,\n",
    "                      util)\n",
    "import napari\n"
   ]
  },
  {
   "cell_type": "code",
   "execution_count": 2,
   "metadata": {},
   "outputs": [
    {
     "ename": "FileNotFoundError",
     "evalue": "[Errno 2] No such file or directory: 'D:/MRI - Tairawhiti/AutoBindWATER_450/IM-0046-0750.dcm'",
     "output_type": "error",
     "traceback": [
      "\u001b[0;31m---------------------------------------------------------------------------\u001b[0m",
      "\u001b[0;31mFileNotFoundError\u001b[0m                         Traceback (most recent call last)",
      "Cell \u001b[0;32mIn[2], line 4\u001b[0m\n\u001b[1;32m      1\u001b[0m \u001b[39m# Understanding the data format\u001b[39;00m\n\u001b[1;32m      2\u001b[0m \n\u001b[1;32m      3\u001b[0m \u001b[39m# Read in Diacom file\u001b[39;00m\n\u001b[0;32m----> 4\u001b[0m example_mri_scan_file \u001b[39m=\u001b[39m pydicom\u001b[39m.\u001b[39;49mdcmread(\u001b[39m\"\u001b[39;49m\u001b[39mD:/MRI - Tairawhiti/AutoBindWATER_450/IM-0046-0750.dcm\u001b[39;49m\u001b[39m\"\u001b[39;49m)\n\u001b[1;32m      6\u001b[0m \u001b[39m# Assessing metadata within Diacom file\u001b[39;00m\n\u001b[1;32m      7\u001b[0m example_mri_scan \u001b[39m=\u001b[39m example_mri_scan_file\u001b[39m.\u001b[39mpixel_array\n",
      "File \u001b[0;32m~/opt/anaconda3/lib/python3.9/site-packages/pydicom/filereader.py:993\u001b[0m, in \u001b[0;36mdcmread\u001b[0;34m(fp, defer_size, stop_before_pixels, force, specific_tags)\u001b[0m\n\u001b[1;32m    991\u001b[0m     caller_owns_file \u001b[39m=\u001b[39m \u001b[39mFalse\u001b[39;00m\n\u001b[1;32m    992\u001b[0m     logger\u001b[39m.\u001b[39mdebug(\u001b[39m\"\u001b[39m\u001b[39mReading file \u001b[39m\u001b[39m'\u001b[39m\u001b[39m{0}\u001b[39;00m\u001b[39m'\u001b[39m\u001b[39m\"\u001b[39m\u001b[39m.\u001b[39mformat(fp))\n\u001b[0;32m--> 993\u001b[0m     fp \u001b[39m=\u001b[39m \u001b[39mopen\u001b[39;49m(fp, \u001b[39m'\u001b[39;49m\u001b[39mrb\u001b[39;49m\u001b[39m'\u001b[39;49m)\n\u001b[1;32m    994\u001b[0m \u001b[39melif\u001b[39;00m fp \u001b[39mis\u001b[39;00m \u001b[39mNone\u001b[39;00m \u001b[39mor\u001b[39;00m \u001b[39mnot\u001b[39;00m \u001b[39mhasattr\u001b[39m(fp, \u001b[39m\"\u001b[39m\u001b[39mread\u001b[39m\u001b[39m\"\u001b[39m) \u001b[39mor\u001b[39;00m \u001b[39mnot\u001b[39;00m \u001b[39mhasattr\u001b[39m(fp, \u001b[39m\"\u001b[39m\u001b[39mseek\u001b[39m\u001b[39m\"\u001b[39m):\n\u001b[1;32m    995\u001b[0m     \u001b[39mraise\u001b[39;00m \u001b[39mTypeError\u001b[39;00m(\u001b[39m\"\u001b[39m\u001b[39mdcmread: Expected a file path or a file-like, \u001b[39m\u001b[39m\"\u001b[39m\n\u001b[1;32m    996\u001b[0m                     \u001b[39m\"\u001b[39m\u001b[39mbut got \u001b[39m\u001b[39m\"\u001b[39m \u001b[39m+\u001b[39m \u001b[39mtype\u001b[39m(fp)\u001b[39m.\u001b[39m\u001b[39m__name__\u001b[39m)\n",
      "\u001b[0;31mFileNotFoundError\u001b[0m: [Errno 2] No such file or directory: 'D:/MRI - Tairawhiti/AutoBindWATER_450/IM-0046-0750.dcm'"
     ]
    }
   ],
   "source": [
    "# Understanding the data format\n",
    "\n",
    "# Read in Diacom file\n",
    "example_mri_scan_file = pydicom.dcmread(\"D:/MRI - Tairawhiti/AutoBindWATER_450/IM-0046-0750.dcm\")\n",
    "\n",
    "# Assessing metadata within Diacom file\n",
    "example_mri_scan = example_mri_scan_file.pixel_array\n",
    "\n",
    "print('Height and Width of Single MRI Scan: ', example_mri_scan.shape)\n",
    "\n",
    "plt.imshow(example_mri_scan, cmap='gray')\n",
    "plt.show()"
   ]
  },
  {
   "cell_type": "code",
   "execution_count": 14,
   "metadata": {},
   "outputs": [
    {
     "name": "stdout",
     "output_type": "stream",
     "text": [
      "Collecting stl\n",
      "  Using cached stl-0.0.3-py3-none-any.whl\n",
      "Installing collected packages: stl\n",
      "Successfully installed stl-0.0.3\n",
      "Note: you may need to restart the kernel to use updated packages.\n"
     ]
    }
   ],
   "source": [
    "# %pip install trimesh\n",
    "# %pip install mesh\n",
    "# %pip install stl\n",
    "# %pip install scipy\n",
    "# %pip install opencv-python\n",
    "# %pip install --upgrade numpy-stl"
   ]
  },
  {
   "cell_type": "code",
   "execution_count": 26,
   "metadata": {},
   "outputs": [
    {
     "data": {
      "image/png": "[encoded data removed]",
      "text/plain": [
       "<Figure size 640x480 with 1 Axes>"
      ]
     },
     "metadata": {},
     "output_type": "display_data"
    }
   ],
   "source": [
    "# Load the STL file\n",
    "mesh = trimesh.load('C:/Users/GGPC/OneDrive/Desktop/Part 4 Project/Part4Project/SegmentationMasks/R_tibia_15A.stl')\n",
    "\n",
    "thickness = 2.0\n",
    "\n",
    "slice_data_all = []\n",
    "\n",
    "z_min = mesh.bounds[0][2]\n",
    "z_max = mesh.bounds[1][2]\n",
    "\n",
    "# Create an array of z-values for the slices\n",
    "z_values = np.arange(z_min, z_max, thickness)\n",
    "\n",
    "for z in z_values:\n",
    "    # Create a new 2D slice at the current z-coordinate\n",
    "    plane_origin = [0, 0, z]\n",
    "    plane_normal = [0, 0, 1]\n",
    "    slice_mesh = mesh.section(plane_origin=plane_origin, plane_normal=plane_normal)\n",
    "\n",
    "    if slice_mesh is not None:\n",
    "        # Get the vertices of the slice and convert to numpy array\n",
    "        slice_data = np.array(slice_mesh.vertices)\n",
    "        slice_data_all.append(slice_data)\n",
    "\n",
    "# Extract X, Y, and Z coordinates from slice_data\n",
    "slice = 0\n",
    "x_coords = (slice_data_all[slice])[:, 0]\n",
    "y_coords = (slice_data_all[slice])[:, 1]\n",
    "z_coords = (slice_data_all[slice])[:, 2]\n",
    "\n",
    "# Plot the 2D slice\n",
    "plt.figure()\n",
    "plt.scatter(x_coords, y_coords)\n",
    "plt.xlabel('X')\n",
    "plt.ylabel('Y')\n",
    "plt.title('2D Slice')\n",
    "plt.axis('equal')\n",
    "plt.show()"
   ]
  },
  {
   "cell_type": "code",
   "execution_count": 3,
   "metadata": {},
   "outputs": [],
   "source": [
    "# Load the STL file\n",
    "#mesh = trimesh.load('C:/Users/GGPC/OneDrive/Desktop/Part 4 Project/Part4Project/SegmentationMasks/R_tibia_15A.stl')\n",
    "mesh = trimesh.load(\"/Users/pranavrao/Library/CloudStorage/OneDrive-TheUniversityofAuckland/Part4Project/TruthSegmentation/R_tibia_15A.stl\")\n",
    "\n",
    "# Will require tuning in future\n",
    "voxel_size = 0.1\n",
    "\n",
    "# Voxelization\n",
    "# The first dimension (604): This dimension represents the size of the voxel array in the x-direction. It corresponds to the number of elements or voxels along the x-axis.\n",
    "# The second dimension (541): This dimension represents the size of the voxel array in the y-direction. It corresponds to the number of elements or voxels along the y-axis.\n",
    "# The third dimension (3152): This dimension represents the size of the voxel array in the z-direction. It corresponds to the number of elements or voxels along the z-axis. \n",
    "# The z-axis typically corresponds to the axial plane in medical imaging.\n",
    "voxels = mesh.voxelized(pitch=voxel_size)\n",
    "voxel_data = voxels.matrix.astype(np.uint8)\n",
    "\n",
    "\n",
    "\n",
    "# Initialize empty arrays to store the resized data\n",
    "new_size = (512, 512)\n",
    "resized_voxel_data_2d = np.empty((new_size[0], new_size[1], voxel_data.shape[2]), dtype=voxel_data.dtype)\n",
    "# Resize each 2D slice in the resized_voxel_data and resized_masks arrays\n",
    "for i in range(voxel_data.shape[2]):\n",
    "    resized_voxel_data_2d[:,:,i] = resize(voxel_data[:,:,i], new_size)\n",
    "\n",
    "\n",
    "# Resizing Voxel Data\n",
    "# One voxel is the slice size  \n",
    "scans_z = 615\n",
    "resizing_factor = scans_z / resized_voxel_data_2d.shape[2]\n",
    "# Generate new z indices\n",
    "indices = np.arange(0, resized_voxel_data_2d.shape[2], resizing_factor).astype(int)\n",
    "# Resize the voxel_data array along the z dimension\n",
    "resized_voxel_data = resized_voxel_data_2d[:, :, indices]\n",
    "\n",
    "\n",
    "# Extract 2D slices along the desired axis (e.g., axial)\n",
    "slice_index = 615\n",
    "masks_tibia = []\n",
    "for i in range (slice_index):\n",
    "    slices = resized_voxel_data[:, :, i]  # Adjust the axis and slice index as needed\n",
    "    masks = np.where(slices > 0, 1, 0)\n",
    "    masks_tibia.append(masks)\n",
    "masks_tibia = np.array(masks_tibia)\n",
    "\n",
    "# for i in range (len(masks_tibia)):\n",
    "#     img_resized = cv2.resize(masks_tibia[i], (512, 512))\n",
    "\n"
   ]
  },
  {
   "cell_type": "code",
   "execution_count": 8,
   "metadata": {},
   "outputs": [
    {
     "data": {
      "text/plain": [
       "0.0"
      ]
     },
     "execution_count": 8,
     "metadata": {},
     "output_type": "execute_result"
    }
   ],
   "source": [
    "masks_tibia.shape\n",
    "# np.savetxt('fibulamaskarraypaitent1.txt', masks_tibia.flatten())\n",
    "# masks_tibia = np.loadtxt('fibulamaskarraypaitent1.txt').reshape((615, 512, 512))\n",
    "np.mean(masks_tibia)"
   ]
  },
  {
   "cell_type": "code",
   "execution_count": 9,
   "metadata": {},
   "outputs": [],
   "source": [
    "viewer = napari.view_image(voxel_data[:, :, :], contrast_limits=[0, 1])"
   ]
  }
 ],
 "metadata": {
  "kernelspec": {
   "display_name": "base",
   "language": "python",
   "name": "python3"
  },
  "language_info": {
   "codemirror_mode": {
    "name": "ipython",
    "version": 3
   },
   "file_extension": ".py",
   "mimetype": "text/x-python",
   "name": "python",
   "nbconvert_exporter": "python",
   "pygments_lexer": "ipython3",
   "version": "3.9.13"
  },
  "orig_nbformat": 4
 },
 "nbformat": 4,
 "nbformat_minor": 2
}
